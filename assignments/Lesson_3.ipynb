{
 "cells": [
  {
   "cell_type": "markdown",
   "id": "f353c665-3837-40da-8fb4-9e4fceef91a0",
   "metadata": {},
   "source": [
    "# Lesson 3\n",
    "Instructions:\n",
    "-\n",
    "\n",
    "1. Read the article: https://www.sciencedirect.com/science/article/abs/pii/S0031320322001753\n",
    "2. Replicate the study using the same dataset.\n",
    "3. Read articles about Adjusted Rand Index, Normalized Mutual Information, and Folkes-Mallows Index (only use paper published in IEEE, sciencedirect, springerlink, Taylor Francis).\n",
    "4. Aside from the Adjusted Rand Index (ARI), and Normalized Mutual Information (NMI), use the Folkes-Mallows Index (FMI), and compare the result of each performance index.\n",
    "5. Compare and contrast each performance index, what are the advantages and disadvantages of ARI, NMI, and FMI, and when to use each?\n",
    "6. Using Kmodes and Hierarchical Clustering, use the same dataset and perform categorical data clustering, use FMI, ARI, and NMI for the comparison of performance.\n",
    "7. Write your report using Latex. Your report should be focused on the \"why's and the what's\" of each performance metrices (i.e. why is FMI always greater than ARI and NMI? What's the problem with ARI and NMI?)."
   ]
  },
  {
   "cell_type": "markdown",
   "id": "20c2d34e-7869-4aeb-9519-02aa1fee5e0e",
   "metadata": {},
   "source": [
    "### Fetch Data"
   ]
  },
  {
   "cell_type": "code",
   "execution_count": null,
   "id": "925dea17-6f89-4f2e-963d-63c86cbe6dda",
   "metadata": {},
   "outputs": [],
   "source": [
    "from ucimlrepo import fetch_ucirepo \n",
    "import pandas as pd\n",
    "\n",
    "soybean= fetch_ucirepo(id=91) \n",
    "zoo = fetch_ucirepo(id=111) \n",
    "heart_disease = fetch_ucirepo(id=45) \n",
    "dermatology = fetch_ucirepo(id=33)\n",
    "breast_cancer = fetch_ucirepo(id=15)\n",
    "mushroom = fetch_ucirepo(id=73)"
   ]
  },
  {
   "cell_type": "code",
   "execution_count": 2,
   "id": "2a183ea2-0f4a-48b7-8dc6-b17e0f82144d",
   "metadata": {},
   "outputs": [],
   "source": [
    "import pandas as pd\n",
    "\n",
    "datasets = [soybean, zoo, heart_disease, dermatology, breast_cancer, mushroom]\n",
    "dataset_names = ['soybean', 'zoo', 'heart_disease', 'dermatology', 'breast_cancer', 'mushroom']\n",
    "dfs = []\n",
    "\n",
    "for dataset, name in zip(datasets, dataset_names):\n",
    "    X = dataset.data.features\n",
    "    y = dataset.data.targets\n",
    "    df = pd.merge(X, y, left_index=True, right_index=True)\n",
    "    df = df.dropna()\n",
    "    dfs.append((name, df))\n",
    "\n",
    "soybean_df, zoo_df, heart_disease_df, dermatology_df, breast_cancer_df, mushroom_df = dfs"
   ]
  },
  {
   "cell_type": "code",
   "execution_count": 4,
   "id": "90521d01-73bd-419f-b4a1-81f36525d2dd",
   "metadata": {},
   "outputs": [
    {
     "data": {
      "text/html": [
       "<div>\n",
       "<style scoped>\n",
       "    .dataframe tbody tr th:only-of-type {\n",
       "        vertical-align: middle;\n",
       "    }\n",
       "\n",
       "    .dataframe tbody tr th {\n",
       "        vertical-align: top;\n",
       "    }\n",
       "\n",
       "    .dataframe thead th {\n",
       "        text-align: right;\n",
       "    }\n",
       "</style>\n",
       "<table border=\"1\" class=\"dataframe\">\n",
       "  <thead>\n",
       "    <tr style=\"text-align: right;\">\n",
       "      <th></th>\n",
       "      <th>Dataset</th>\n",
       "      <th>ARI</th>\n",
       "      <th>NMI</th>\n",
       "      <th>FMI</th>\n",
       "    </tr>\n",
       "  </thead>\n",
       "  <tbody>\n",
       "    <tr>\n",
       "      <th>0</th>\n",
       "      <td>soybean</td>\n",
       "      <td>0.443357</td>\n",
       "      <td>0.590101</td>\n",
       "      <td>0.673148</td>\n",
       "    </tr>\n",
       "    <tr>\n",
       "      <th>1</th>\n",
       "      <td>zoo</td>\n",
       "      <td>0.129071</td>\n",
       "      <td>0.182616</td>\n",
       "      <td>0.437065</td>\n",
       "    </tr>\n",
       "    <tr>\n",
       "      <th>2</th>\n",
       "      <td>heart_disease</td>\n",
       "      <td>0.248801</td>\n",
       "      <td>0.157248</td>\n",
       "      <td>0.551633</td>\n",
       "    </tr>\n",
       "    <tr>\n",
       "      <th>3</th>\n",
       "      <td>dermatology</td>\n",
       "      <td>0.006635</td>\n",
       "      <td>0.186523</td>\n",
       "      <td>0.080122</td>\n",
       "    </tr>\n",
       "    <tr>\n",
       "      <th>4</th>\n",
       "      <td>breast_cancer</td>\n",
       "      <td>0.275454</td>\n",
       "      <td>0.205396</td>\n",
       "      <td>0.719760</td>\n",
       "    </tr>\n",
       "    <tr>\n",
       "      <th>5</th>\n",
       "      <td>mushroom</td>\n",
       "      <td>0.068546</td>\n",
       "      <td>0.069612</td>\n",
       "      <td>0.453842</td>\n",
       "    </tr>\n",
       "  </tbody>\n",
       "</table>\n",
       "</div>"
      ],
      "text/plain": [
       "         Dataset       ARI       NMI       FMI\n",
       "0        soybean  0.443357  0.590101  0.673148\n",
       "1            zoo  0.129071  0.182616  0.437065\n",
       "2  heart_disease  0.248801  0.157248  0.551633\n",
       "3    dermatology  0.006635  0.186523  0.080122\n",
       "4  breast_cancer  0.275454  0.205396  0.719760\n",
       "5       mushroom  0.068546  0.069612  0.453842"
      ]
     },
     "execution_count": 4,
     "metadata": {},
     "output_type": "execute_result"
    }
   ],
   "source": [
    "from sklearn.metrics import adjusted_rand_score, normalized_mutual_info_score\n",
    "from sklearn.metrics.cluster import contingency_matrix\n",
    "import numpy as np\n",
    "\n",
    "def folkes_mallows_index(true_labels, pred_labels):\n",
    "    contingency = contingency_matrix(true_labels, pred_labels)\n",
    "    tp = np.sum(contingency * (contingency - 1)) / 2\n",
    "    tp_fp = np.sum(np.sum(contingency, axis=0) * (np.sum(contingency, axis=0) - 1)) / 2\n",
    "    tp_fn = np.sum(np.sum(contingency, axis=1) * (np.sum(contingency, axis=1) - 1)) / 2\n",
    "    precision = tp / tp_fp\n",
    "    recall = tp / tp_fn\n",
    "    fm_index = np.sqrt(precision * recall)\n",
    "    return fm_index\n",
    "\n",
    "results = []\n",
    "\n",
    "for name, df in dfs:\n",
    "    true_labels = df.iloc[:, -1].values\n",
    "    pred_labels = df.iloc[:, -2].values \n",
    "    \n",
    "    ari = adjusted_rand_score(true_labels, pred_labels)\n",
    "    \n",
    "    nmi = normalized_mutual_info_score(true_labels, pred_labels)\n",
    "    \n",
    "    fmi = folkes_mallows_index(true_labels, pred_labels)\n",
    "    \n",
    "    results.append((name, ari, nmi, fmi))\n",
    "\n",
    "results_df = pd.DataFrame(results, columns=['Dataset', 'ARI', 'NMI', 'FMI'])\n",
    "\n",
    "results_df\n"
   ]
  },
  {
   "cell_type": "markdown",
   "id": "ea849f42-6528-40a9-a270-95e0466d58de",
   "metadata": {},
   "source": [
    "### When to use each? "
   ]
  },
  {
   "cell_type": "markdown",
   "id": "8da56440-4e6a-4a2d-811d-298d475306dc",
   "metadata": {},
   "source": [
    "The Adjusted Rand Index (ARI) measures how similar two clusterings are, taking into account random chance. It's good for comparing predicted and true clusterings in datasets. Normalized Mutual Information (NMI) also compares clusterings, but it's better when the number of clusters might vary between them. Folkes-Mallows Index (FMI) looks at clustering quality in terms of precision and recall, giving a balanced view. ARI helps when you want to see how well predictions match true clusters, NMI handles different numbers of clusters, and FMI gives a balanced look at clustering quality based on precision and recall."
   ]
  },
  {
   "cell_type": "markdown",
   "id": "233eea21-b1e6-4172-b0d4-56d8f2a9c8c6",
   "metadata": {},
   "source": [
    "### Data Clustering & Compare Performance"
   ]
  },
  {
   "cell_type": "code",
   "execution_count": 6,
   "id": "91a7fea2-b41d-40a1-b9f5-ba00e8800fee",
   "metadata": {},
   "outputs": [
    {
     "name": "stdout",
     "output_type": "stream",
     "text": [
      "Initialization method and algorithm are deterministic. Setting n_init to 1.\n",
      "Init: initializing centroids\n",
      "Init: initializing clusters\n",
      "Starting iterations...\n",
      "Run 1, iteration: 1/100, moves: 430, cost: 30269.0\n",
      "Run 1, iteration: 2/100, moves: 317, cost: 30079.0\n",
      "Run 1, iteration: 3/100, moves: 56, cost: 30079.0\n"
     ]
    },
    {
     "ename": "NameError",
     "evalue": "name 'AgglomerativeClustering' is not defined",
     "output_type": "error",
     "traceback": [
      "\u001b[0;31m---------------------------------------------------------------------------\u001b[0m",
      "\u001b[0;31mNameError\u001b[0m                                 Traceback (most recent call last)",
      "Cell \u001b[0;32mIn[6], line 7\u001b[0m\n\u001b[1;32m      4\u001b[0m km_labels \u001b[38;5;241m=\u001b[39m km\u001b[38;5;241m.\u001b[39mfit_predict(df)\n\u001b[1;32m      6\u001b[0m \u001b[38;5;66;03m# Perform clustering using Hierarchical Clustering\u001b[39;00m\n\u001b[0;32m----> 7\u001b[0m hc \u001b[38;5;241m=\u001b[39m \u001b[43mAgglomerativeClustering\u001b[49m(n_clusters\u001b[38;5;241m=\u001b[39m\u001b[38;5;241m5\u001b[39m, linkage\u001b[38;5;241m=\u001b[39m\u001b[38;5;124m'\u001b[39m\u001b[38;5;124mward\u001b[39m\u001b[38;5;124m'\u001b[39m)\n\u001b[1;32m      8\u001b[0m hc_labels \u001b[38;5;241m=\u001b[39m hc\u001b[38;5;241m.\u001b[39mfit_predict(df)\n\u001b[1;32m     10\u001b[0m \u001b[38;5;66;03m# Compute FMI, ARI, and NMI scores for Kmodes\u001b[39;00m\n",
      "\u001b[0;31mNameError\u001b[0m: name 'AgglomerativeClustering' is not defined"
     ]
    }
   ],
   "source": [
    "from kmodes.kmodes import KModes\n",
    "\n",
    "km = KModes(n_clusters=5, init='Cao', n_init=5, verbose=1)\n",
    "km_labels = km.fit_predict(df)\n",
    "\n",
    "# Perform clustering using Hierarchical Clustering\n",
    "hc = AgglomerativeClustering(n_clusters=5, linkage='ward')\n",
    "hc_labels = hc.fit_predict(df)\n",
    "\n",
    "# Compute FMI, ARI, and NMI scores for Kmodes\n",
    "fmi_km = folkes_mallows_index(true_labels, km_labels)\n",
    "ari_km = adjusted_rand_score(true_labels, km_labels)\n",
    "nmi_km = normalized_mutual_info_score(true_labels, km_labels)\n",
    "\n",
    "# Compute FMI, ARI, and NMI scores for Hierarchical Clustering\n",
    "fmi_hc = folkes_mallows_index(true_labels, hc_labels)\n",
    "ari_hc = adjusted_rand_score(true_labels, hc_labels)\n",
    "nmi_hc = normalized_mutual_info_score(true_labels, hc_labels)\n",
    "\n",
    "# Display the results\n",
    "results = {\n",
    "    \"Kmodes\": {\"FMI\": fmi_km, \"ARI\": ari_km, \"NMI\": nmi_km},\n",
    "    \"Hierarchical Clustering\": {\"FMI\": fmi_hc, \"ARI\": ari_hc, \"NMI\": nmi_hc}\n",
    "}\n",
    "\n",
    "results"
   ]
  },
  {
   "cell_type": "markdown",
   "id": "d638dc79-fd61-4c34-8f88-8e1ffc43547f",
   "metadata": {},
   "source": [
    "### FMI, ARI, & NMI Evaluation\n",
    "\n",
    "The discrepancy in the values of FMI (Folkes-Mallows Index) compared to ARI (Adjusted Rand Index) and NMI (Normalized Mutual Information) could be due to differences in their calculation methods and what they measure. FMI evaluates clustering quality based on precision and recall, providing a balanced assessment. ARI measures the similarity between two clusterings, adjusting for chance agreement, while NMI measures mutual dependence normalized to be between 0 and 1. FMI tends to be higher than ARI and NMI because it considers both precision and recall, which can yield higher values, especially when there's a good balance between precision and recall. However, it's essential to consider the specific characteristics of the dataset and the evaluation goals when interpreting these metrics, as they may behave differently depending on the dataset's properties and clustering algorithms used.\n",
    "\n",
    "\n"
   ]
  }
 ],
 "metadata": {
  "kernelspec": {
   "display_name": "Python 3 (ipykernel)",
   "language": "python",
   "name": "python3"
  },
  "language_info": {
   "codemirror_mode": {
    "name": "ipython",
    "version": 3
   },
   "file_extension": ".py",
   "mimetype": "text/x-python",
   "name": "python",
   "nbconvert_exporter": "python",
   "pygments_lexer": "ipython3",
   "version": "3.11.5"
  }
 },
 "nbformat": 4,
 "nbformat_minor": 5
}
